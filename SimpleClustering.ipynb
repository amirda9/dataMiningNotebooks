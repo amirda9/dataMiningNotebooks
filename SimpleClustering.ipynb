{
  "nbformat": 4,
  "nbformat_minor": 0,
  "metadata": {
    "colab": {
      "name": "Q1.ipynb",
      "provenance": [],
      "collapsed_sections": [],
      "toc_visible": true,
      "authorship_tag": "ABX9TyO51IMrFjVu0qHlMLbAExkZ",
      "include_colab_link": true
    },
    "kernelspec": {
      "name": "python3",
      "display_name": "Python 3"
    }
  },
  "cells": [
    {
      "cell_type": "markdown",
      "metadata": {
        "id": "view-in-github",
        "colab_type": "text"
      },
      "source": [
        "<a href=\"https://colab.research.google.com/github/amirda9/dataMiningNotebooks/blob/master/SimpleClustering.ipynb\" target=\"_parent\"><img src=\"https://colab.research.google.com/assets/colab-badge.svg\" alt=\"Open In Colab\"/></a>"
      ]
    },
    {
      "cell_type": "code",
      "metadata": {
        "id": "0x-oX9JWYqap"
      },
      "source": [
        "# Importing Libraries\n",
        "import numpy as np\n",
        "import random\n",
        "import math\n",
        "from PIL import Image\n",
        "import matplotlib.pyplot as plt\n",
        "import pandas as pd"
      ],
      "execution_count": null,
      "outputs": []
    },
    {
      "cell_type": "code",
      "metadata": {
        "id": "e7jaafMtZiFc"
      },
      "source": [
        "# Reading two datasets and converting them to array\n",
        "ds1 = pd.read_csv(\"Dataset1.csv\")\n",
        "ds2 = pd.read_csv(\"Dataset2.csv\")\n",
        "d1 = np.asarray(ds1)\n",
        "d2 = np.asarray(ds2)"
      ],
      "execution_count": null,
      "outputs": []
    },
    {
      "cell_type": "markdown",
      "metadata": {
        "id": "JTIvOnQydB2h"
      },
      "source": [
        "## **Visualizing the Data**"
      ]
    },
    {
      "cell_type": "code",
      "metadata": {
        "colab": {
          "base_uri": "https://localhost:8080/",
          "height": 283
        },
        "id": "Wl_bx6lEZ_dJ",
        "outputId": "8e0e161f-1448-4004-86dd-c9ee1440e74b"
      },
      "source": [
        "plt.scatter(d1[:,0],d1[:,1])"
      ],
      "execution_count": null,
      "outputs": [
        {
          "output_type": "execute_result",
          "data": {
            "text/plain": [
              "<matplotlib.collections.PathCollection at 0x7fc2d5ad4080>"
            ]
          },
          "metadata": {
            "tags": []
          },
          "execution_count": 247
        },
        {
          "output_type": "display_data",
          "data": {
            "image/png": "[encoded data removed]",
            "text/plain": [
              "<Figure size 432x288 with 1 Axes>"
            ]
          },
          "metadata": {
            "tags": [],
            "needs_background": "light"
          }
        }
      ]
    },
    {
      "cell_type": "code",
      "metadata": {
        "colab": {
          "base_uri": "https://localhost:8080/",
          "height": 283
        },
        "id": "lzYvecDicYE9",
        "outputId": "29f1699b-13eb-4fcb-aff0-93aa51e3280e"
      },
      "source": [
        "plt.scatter(d2[:,0],d2[:,1] , c='r')"
      ],
      "execution_count": null,
      "outputs": [
        {
          "output_type": "execute_result",
          "data": {
            "text/plain": [
              "<matplotlib.collections.PathCollection at 0x7fc2d557f0b8>"
            ]
          },
          "metadata": {
            "tags": []
          },
          "execution_count": 248
        },
        {
          "output_type": "display_data",
          "data": {
            "image/png": "[encoded data removed]",
            "text/plain": [
              "<Figure size 432x288 with 1 Axes>"
            ]
          },
          "metadata": {
            "tags": [],
            "needs_background": "light"
          }
        }
      ]
    },
    {
      "cell_type": "markdown",
      "metadata": {
        "id": "kZVkhpSJdurJ"
      },
      "source": [
        "# K means Algorithm"
      ]
    },
    {
      "cell_type": "code",
      "metadata": {
        "id": "heUofBLfdz-m"
      },
      "source": [
        "class kmeans:\n",
        "  def __init__(self,k,x):\n",
        "    if x.ndim == 2:\n",
        "      self.centers=np.ones((k,1,2))\n",
        "    else:\n",
        "      self.centers=np.ones((k,1))\n",
        "    \n",
        "  def fit(self,x):\n",
        "    for i in range(self.centers.shape[0]):\n",
        "        rand =random.randint(0,1)\n",
        "        # self.centers[i] = rand * self.centers[i]\n",
        "        self.centers[i] = x[rand]\n",
        "\n",
        "    # print(\"Initial Values for Centers : \")\n",
        "    # print( self.centers)\n",
        "    for _ in range(15):\n",
        "      self.d = np.ones((x.shape[0],self.centers.shape[0]))\n",
        "      for j in range(self.centers.shape[0]):\n",
        "        for i in range(x.shape[0]):\n",
        "          # print((x[i]-self.centers[j]).shape)\n",
        "          # print((x[i]-self.centers[j]).shape)\n",
        "          self.d[i,j]= np.linalg.norm((x[i]-self.centers[j]))\n",
        "          \n",
        "          # self.d[i,j]=2\n",
        "      # d[0]=x[i]-self.centers[0]\n",
        "      # d[1]=x[i]-self.centers[0]\n",
        "      # if math.abs\n",
        "      # print(d)\n",
        "      \n",
        "      self.labels=np.ones(x.shape[0])\n",
        "      for i in range(x.shape[0]):\n",
        "        # print(d[: ,i])\n",
        "        # print(d)\n",
        "        self.labels[i]=np.argmin(self.d[i])\n",
        "        # if abs(d[0,i])>abs(d[1,i]):\n",
        "        #   self.labels[i]=1\n",
        "        # else:\n",
        "        #   self.labels[i]=0\n",
        "\n",
        "      for i in range(self.centers.shape[0]):\n",
        "        num = 0\n",
        "        sum = 0\n",
        "        # print(i)\n",
        "        for j in range(x.shape[0]):\n",
        "          if self.labels[j] == i:\n",
        "            num += 1\n",
        "            sum += x[j]\n",
        "          else :\n",
        "            pass\n",
        "        # print(num)\n",
        "        # print(sum)\n",
        "        if num != 0:\n",
        "          self.centers[i] = sum/num\n",
        "        # print(self.centers)\n",
        "        \n",
        "        # if(m==0):\n",
        "        #   m=1\n",
        "        \n",
        "      #   # print(c/m)\n",
        "  def error_cal(self,x):\n",
        "    err = np.asarray(self.c_error)\n",
        "    e = 0 \n",
        "    iter = 0\n",
        "    # for i in range(x.shape[0]):\n",
        "    #   iter += 1\n",
        "    #   e += np.linalg.norm(self.centers[int(self.labels[i])]-x[i])\n",
        "    # return e/iter\n",
        "    for j in range(err.shape[0]):\n",
        "      iter += 1\n",
        "      e += err[j]\n",
        "    return e/iter\n",
        "\n",
        "  def error_c(self,x):\n",
        "    self.c_error=[]\n",
        "    e=0\n",
        "    iter=0\n",
        "    for j in range(int(self.labels.max())+1):\n",
        "      # print(i)\n",
        "      for i in range(x.shape[0]):\n",
        "        if(self.labels[i]==j):\n",
        "          iter += 1\n",
        "          e += np.linalg.norm(self.centers[j]-x[i])\n",
        "      self.c_error.append(e/iter)\n",
        "      print(\"error for cluster \" + str(j) +\" : \"+ str(e/iter))"
      ],
      "execution_count": null,
      "outputs": []
    },
    {
      "cell_type": "code",
      "metadata": {
        "colab": {
          "base_uri": "https://localhost:8080/"
        },
        "id": "-MvuzJSd_WI8",
        "outputId": "337d4766-a2b3-46e6-ee04-f7680b4063a0"
      },
      "source": [
        ""
      ],
      "execution_count": null,
      "outputs": [
        {
          "output_type": "execute_result",
          "data": {
            "text/plain": [
              "-0.4859519265656548"
            ]
          },
          "metadata": {
            "tags": []
          },
          "execution_count": 268
        }
      ]
    },
    {
      "cell_type": "code",
      "metadata": {
        "colab": {
          "base_uri": "https://localhost:8080/",
          "height": 265
        },
        "id": "Ey8B9khpku_m",
        "outputId": "7080611f-0651-4630-fd4b-0c3e24d488a9"
      },
      "source": [
        "k2 = kmeans(2,d1)\n",
        "k2.fit(d1)\n",
        "k2.centers\n",
        "for i in range(d1.shape[0]):\n",
        "  if k2.labels[i]==0:\n",
        "    plt.scatter(k2.centers[0][0,0],k2.centers[0][0,1],c='y')\n",
        "    plt.scatter(d1[i,0],d1[i,1],c='r')\n",
        "  if k2.labels[i]==1:\n",
        "    plt.scatter(k2.centers[1][0,0],k2.centers[1][0,1],c='y')\n",
        "    plt.scatter(d1[i,0],d1[i,1],c='b')"
      ],
      "execution_count": null,
      "outputs": [
        {
          "output_type": "display_data",
          "data": {
            "image/png": "[encoded data removed]",
            "text/plain": [
              "<Figure size 432x288 with 1 Axes>"
            ]
          },
          "metadata": {
            "tags": [],
            "needs_background": "light"
          }
        }
      ]
    },
    {
      "cell_type": "code",
      "metadata": {
        "colab": {
          "base_uri": "https://localhost:8080/",
          "height": 265
        },
        "id": "F7Zind7H8ylp",
        "outputId": "2ae18126-7a26-4a3f-ca88-17aab9472e58"
      },
      "source": [
        "k3 = kmeans(3,d1)\n",
        "k3.fit(d1)\n",
        "k3.centers\n",
        "for i in range(d1.shape[0]):\n",
        "  if k3.labels[i]==0:\n",
        "    plt.scatter(k3.centers[0][0,0],k3.centers[0][0,1],c='y')\n",
        "    plt.scatter(d1[i,0],d1[i,1],c='r')\n",
        "  if k3.labels[i]==1:\n",
        "    plt.scatter(k3.centers[1][0,0],k3.centers[1][0,1],c='y')\n",
        "    plt.scatter(d1[i,0],d1[i,1],c='b')\n",
        "  if k3.labels[i]==2:\n",
        "    plt.scatter(k3.centers[2][0,0],k3.centers[2][0,1],c='y')\n",
        "    plt.scatter(d1[i,0],d1[i,1],c='g')"
      ],
      "execution_count": null,
      "outputs": [
        {
          "output_type": "display_data",
          "data": {
            "image/png": "[encoded data removed]",
            "text/plain": [
              "<Figure size 432x288 with 1 Axes>"
            ]
          },
          "metadata": {
            "tags": [],
            "needs_background": "light"
          }
        }
      ]
    },
    {
      "cell_type": "code",
      "metadata": {
        "colab": {
          "base_uri": "https://localhost:8080/",
          "height": 265
        },
        "id": "K2snfOfO9Arg",
        "outputId": "429a5dbc-7b67-4bb5-8fd9-d0953b9dcaa9"
      },
      "source": [
        "k4 = kmeans(4,d1)\n",
        "k4.fit(d1)\n",
        "k4.centers\n",
        "for i in range(d1.shape[0]):\n",
        "  if k4.labels[i]==0:\n",
        "    plt.scatter(k4.centers[0][0,0],k4.centers[0][0,1],c='c')\n",
        "    plt.scatter(d1[i,0],d1[i,1],c='r')\n",
        "  if k4.labels[i]==1:\n",
        "    plt.scatter(k4.centers[1][0,0],k4.centers[1][0,1],c='c')\n",
        "    plt.scatter(d1[i,0],d1[i,1],c='b')\n",
        "  if k4.labels[i]==2:\n",
        "    plt.scatter(k4.centers[2][0,0],k4.centers[2][0,1],c='c')\n",
        "    plt.scatter(d1[i,0],d1[i,1],c='g')\n",
        "  if k4.labels[i]==3:\n",
        "    plt.scatter(k4.centers[3][0,0],k4.centers[3][0,1],c='c')\n",
        "    plt.scatter(d1[i,0],d1[i,1],c='y')"
      ],
      "execution_count": null,
      "outputs": [
        {
          "output_type": "display_data",
          "data": {
            "image/png": "[encoded data removed]",
            "text/plain": [
              "<Figure size 432x288 with 1 Axes>"
            ]
          },
          "metadata": {
            "tags": [],
            "needs_background": "light"
          }
        }
      ]
    },
    {
      "cell_type": "code",
      "metadata": {
        "colab": {
          "base_uri": "https://localhost:8080/"
        },
        "id": "mbKUnd7-xchn",
        "outputId": "8c89cbbb-1585-44bd-f4b8-079c47689e69"
      },
      "source": [
        "k2.error_c(d1)"
      ],
      "execution_count": null,
      "outputs": [
        {
          "output_type": "stream",
          "text": [
            "error for cluster 0 : 0.3160088195773473\n",
            "error for cluster 1 : 0.6408392294166216\n"
          ],
          "name": "stdout"
        }
      ]
    },
    {
      "cell_type": "code",
      "metadata": {
        "colab": {
          "base_uri": "https://localhost:8080/"
        },
        "id": "2oj2kTv80MuS",
        "outputId": "be4918b4-0b15-43af-dea4-3cb2e56f3429"
      },
      "source": [
        "k3.error_c(d1)"
      ],
      "execution_count": null,
      "outputs": [
        {
          "output_type": "stream",
          "text": [
            "error for cluster 0 : 0.6163639287851187\n",
            "error for cluster 1 : 0.5148926081068174\n",
            "error for cluster 2 : 0.46938679022782137\n"
          ],
          "name": "stdout"
        }
      ]
    },
    {
      "cell_type": "code",
      "metadata": {
        "colab": {
          "base_uri": "https://localhost:8080/"
        },
        "id": "Ej02ZO1s0RXF",
        "outputId": "af0ef85a-e53e-4485-e607-bb8a424a070f"
      },
      "source": [
        "k4.error_c(d1)"
      ],
      "execution_count": null,
      "outputs": [
        {
          "output_type": "stream",
          "text": [
            "error for cluster 0 : 0.32383689405410077\n",
            "error for cluster 1 : 0.32995563254311655\n",
            "error for cluster 2 : 0.31630045732935264\n",
            "error for cluster 3 : 0.31622754789135127\n"
          ],
          "name": "stdout"
        }
      ]
    },
    {
      "cell_type": "markdown",
      "metadata": {
        "id": "cYG81Ug7Ae2u"
      },
      "source": [
        "# Calculating the error"
      ]
    },
    {
      "cell_type": "code",
      "metadata": {
        "colab": {
          "base_uri": "https://localhost:8080/"
        },
        "id": "n6NUEkenAb4Z",
        "outputId": "7f166801-2e2f-4500-b7a1-4f015f726915"
      },
      "source": [
        "print(\"Error Calculated for dataset1 and 2 clusters is : \" + str(k2.error_cal(d1)) )\n",
        "print(\"Error Calculated for dataset1 and 3 clusters is : \" + str(k3.error_cal(d1)) )\n",
        "print(\"Error Calculated for dataset1 and 4 clusters is : \" + str(k4.error_cal(d1)) )"
      ],
      "execution_count": null,
      "outputs": [
        {
          "output_type": "stream",
          "text": [
            "Error Calculated for dataset1 and 2 clusters is : 0.47842402449698446\n",
            "Error Calculated for dataset1 and 3 clusters is : 0.5335477757065857\n",
            "Error Calculated for dataset1 and 4 clusters is : 0.3215801329544803\n"
          ],
          "name": "stdout"
        }
      ]
    },
    {
      "cell_type": "code",
      "metadata": {
        "colab": {
          "base_uri": "https://localhost:8080/",
          "height": 1000
        },
        "id": "28OOqdAwDORy",
        "outputId": "d80ed0a1-ad3a-456f-e47f-094e9137fc50"
      },
      "source": [
        "num = np.linspace(1,15,15)\n",
        "err = np.ones_like(num)\n",
        "for i in range(15):\n",
        "  k = kmeans(i+1,d1)\n",
        "  k.fit(d1)\n",
        "  k.error_c(d1)\n",
        "  err[i]=k.error_cal(d1)\n",
        "plt.plot(num,err,'r--x')"
      ],
      "execution_count": null,
      "outputs": [
        {
          "output_type": "stream",
          "text": [
            "error for cluster 0 : 1.2364965309584137\n",
            "error for cluster 0 : 0.3160088195773473\n",
            "error for cluster 1 : 0.6408392294166216\n",
            "error for cluster 0 : 0.3160088195773473\n",
            "error for cluster 1 : 0.5329802773377631\n",
            "error for cluster 2 : 0.49178335124741585\n",
            "error for cluster 0 : 0.3160088195773473\n",
            "error for cluster 1 : 0.3199384505895819\n",
            "error for cluster 2 : 0.32531905908375175\n",
            "error for cluster 3 : 0.3162275478913513\n",
            "error for cluster 0 : 0.2862801053851987\n",
            "error for cluster 1 : 0.277715370160286\n",
            "error for cluster 2 : 0.29276782669214974\n",
            "error for cluster 3 : 0.28433434252434986\n",
            "error for cluster 4 : 0.2935645659231696\n",
            "error for cluster 0 : 0.2832907018146546\n",
            "error for cluster 1 : 0.2735730805712762\n",
            "error for cluster 2 : 0.26141388463936127\n",
            "error for cluster 3 : 0.2806374532794973\n",
            "error for cluster 4 : 0.27542647459946584\n",
            "error for cluster 5 : 0.28688366497950657\n",
            "error for cluster 0 : 0.3160088195773473\n",
            "error for cluster 1 : 0.2945660262808746\n",
            "error for cluster 2 : 0.2866613845928073\n",
            "error for cluster 3 : 0.27548967038604394\n",
            "error for cluster 4 : 0.27137642249745114\n",
            "error for cluster 5 : 0.266784297695523\n",
            "error for cluster 6 : 0.2645650744435252\n",
            "error for cluster 0 : 0.2813222422712788\n",
            "error for cluster 1 : 0.2624298729349516\n",
            "error for cluster 2 : 0.2868728230455337\n",
            "error for cluster 3 : 0.29703872442133783\n",
            "error for cluster 4 : 0.2888122804478545\n",
            "error for cluster 5 : 0.2854387419680219\n",
            "error for cluster 6 : 0.27630674671900474\n",
            "error for cluster 7 : 0.27299981380750277\n",
            "error for cluster 0 : 0.3160088195773473\n",
            "error for cluster 1 : 0.29501326537599004\n",
            "error for cluster 2 : 0.28538417199579247\n",
            "error for cluster 3 : 0.2742033909910428\n",
            "error for cluster 4 : 0.2659157384422221\n",
            "error for cluster 5 : 0.26154226813535886\n",
            "error for cluster 6 : 0.261828332748276\n",
            "error for cluster 7 : 0.25493888255663255\n",
            "error for cluster 8 : 0.24954480614555952\n",
            "error for cluster 0 : 0.3160088195773473\n",
            "error for cluster 1 : 0.2944463663552242\n",
            "error for cluster 2 : 0.2809238231959752\n",
            "error for cluster 3 : 0.2708335265476362\n",
            "error for cluster 4 : 0.2681506648737839\n",
            "error for cluster 5 : 0.26247453966823997\n",
            "error for cluster 6 : 0.25965469366562405\n",
            "error for cluster 7 : 0.2579561926001957\n",
            "error for cluster 8 : 0.2509622591142763\n",
            "error for cluster 9 : 0.24920552151454756\n",
            "error for cluster 0 : 0.3160088195773473\n",
            "error for cluster 1 : 0.29367692388565475\n",
            "error for cluster 2 : 0.28515589876939457\n",
            "error for cluster 3 : 0.2746537981369613\n",
            "error for cluster 4 : 0.2700007926160626\n",
            "error for cluster 5 : 0.26606939991623657\n",
            "error for cluster 6 : 0.2573470838148055\n",
            "error for cluster 7 : 0.24853520755848532\n",
            "error for cluster 8 : 0.24580874195691252\n",
            "error for cluster 9 : 0.2444655698356039\n",
            "error for cluster 10 : 0.24120328457029508\n",
            "error for cluster 0 : 0.3160088195773473\n",
            "error for cluster 1 : 0.29503185613391003\n",
            "error for cluster 2 : 0.2743992008454728\n",
            "error for cluster 3 : 0.27274660831928094\n",
            "error for cluster 4 : 0.26386106588439956\n",
            "error for cluster 5 : 0.2600515959299605\n",
            "error for cluster 6 : 0.25501100763633805\n",
            "error for cluster 7 : 0.2515737333451796\n",
            "error for cluster 8 : 0.24999448652492376\n",
            "error for cluster 9 : 0.24356553692746952\n",
            "error for cluster 10 : 0.2396446842992515\n",
            "error for cluster 11 : 0.23875487601258907\n",
            "error for cluster 0 : 0.26961238111443475\n",
            "error for cluster 1 : 0.2475343779165402\n",
            "error for cluster 2 : 0.27959170079145\n",
            "error for cluster 3 : 0.27531209925401495\n",
            "error for cluster 4 : 0.2704884643214602\n",
            "error for cluster 5 : 0.26627475182601573\n",
            "error for cluster 6 : 0.25557655598752155\n",
            "error for cluster 7 : 0.24784109809101593\n",
            "error for cluster 8 : 0.2466702897613633\n",
            "error for cluster 9 : 0.24424357428923205\n",
            "error for cluster 10 : 0.2426548416608733\n",
            "error for cluster 11 : 0.24109856803126867\n",
            "error for cluster 12 : 0.23516157300540427\n",
            "error for cluster 0 : 0.2696255580661905\n",
            "error for cluster 1 : 0.25090027746960386\n",
            "error for cluster 2 : 0.2811551762185554\n",
            "error for cluster 3 : 0.27607229737257166\n",
            "error for cluster 4 : 0.2719389390998477\n",
            "error for cluster 5 : 0.2649942350874077\n",
            "error for cluster 6 : 0.25700968268274677\n",
            "error for cluster 7 : 0.254875567986636\n",
            "error for cluster 8 : 0.2481015084479465\n",
            "error for cluster 9 : 0.24745160960825743\n",
            "error for cluster 10 : 0.2471230481503381\n",
            "error for cluster 11 : 0.24542870709171008\n",
            "error for cluster 12 : 0.24493784967752666\n",
            "error for cluster 0 : 0.23898308420198536\n",
            "error for cluster 1 : 0.21864643433783434\n",
            "error for cluster 2 : 0.21319917661429302\n",
            "error for cluster 3 : 0.26339919759234687\n",
            "error for cluster 4 : 0.2617349463325587\n",
            "error for cluster 5 : 0.25727843824642666\n",
            "error for cluster 6 : 0.24789844094336386\n",
            "error for cluster 7 : 0.2465998084528075\n",
            "error for cluster 8 : 0.24467964554093152\n",
            "error for cluster 9 : 0.23649323229622193\n",
            "error for cluster 10 : 0.23248257029146133\n",
            "error for cluster 11 : 0.23103335318666374\n",
            "error for cluster 12 : 0.22852285249798357\n",
            "error for cluster 13 : 0.22341616027214037\n",
            "error for cluster 14 : 0.221146432641258\n"
          ],
          "name": "stdout"
        },
        {
          "output_type": "execute_result",
          "data": {
            "text/plain": [
              "[<matplotlib.lines.Line2D at 0x7fc2d5e242b0>]"
            ]
          },
          "metadata": {
            "tags": []
          },
          "execution_count": 257
        },
        {
          "output_type": "display_data",
          "data": {
            "image/png": "[encoded data removed]",
            "text/plain": [
              "<Figure size 432x288 with 1 Axes>"
            ]
          },
          "metadata": {
            "tags": [],
            "needs_background": "light"
          }
        }
      ]
    },
    {
      "cell_type": "code",
      "metadata": {
        "colab": {
          "base_uri": "https://localhost:8080/",
          "height": 265
        },
        "id": "SddpzyYtE3Uq",
        "outputId": "eaf2e155-a3c7-4ffa-e108-6c1ede1ed3eb"
      },
      "source": [
        "k = kmeans(2,d2)\n",
        "k.fit(d2)\n",
        "for i in range(d2.shape[0]):\n",
        "  if k.labels[i]==0:\n",
        "    plt.scatter(d2[i,0],d2[i,1],c='r')\n",
        "  if k.labels[i]==1:\n",
        "    plt.scatter(d2[i,0],d2[i,1],c='b')"
      ],
      "execution_count": null,
      "outputs": [
        {
          "output_type": "display_data",
          "data": {
            "image/png": "[encoded data removed]",
            "text/plain": [
              "<Figure size 432x288 with 1 Axes>"
            ]
          },
          "metadata": {
            "tags": [],
            "needs_background": "light"
          }
        }
      ]
    },
    {
      "cell_type": "code",
      "metadata": {
        "colab": {
          "base_uri": "https://localhost:8080/",
          "height": 265
        },
        "id": "OXCp5f46FRW0",
        "outputId": "07552d41-5ef6-4e33-ea90-a531136c29a8"
      },
      "source": [
        "k = kmeans(3,d2)\n",
        "k.fit(d2)\n",
        "for i in range(d2.shape[0]):\n",
        "  if k.labels[i]==0:\n",
        "    plt.scatter(d2[i,0],d2[i,1],c='r')\n",
        "  if k.labels[i]==1:\n",
        "    plt.scatter(d2[i,0],d2[i,1],c='b')\n",
        "  if k.labels[i]==2:\n",
        "    plt.scatter(d2[i,0],d2[i,1],c='g')"
      ],
      "execution_count": null,
      "outputs": [
        {
          "output_type": "display_data",
          "data": {
            "image/png": "[encoded data removed]",
            "text/plain": [
              "<Figure size 432x288 with 1 Axes>"
            ]
          },
          "metadata": {
            "tags": [],
            "needs_background": "light"
          }
        }
      ]
    },
    {
      "cell_type": "code",
      "metadata": {
        "colab": {
          "base_uri": "https://localhost:8080/",
          "height": 1000
        },
        "id": "OldcebZBFak-",
        "outputId": "61bf97f3-5727-4b8f-df3e-90d4ac54ab29"
      },
      "source": [
        "num = np.linspace(1,15,15)\n",
        "err = np.ones_like(num)\n",
        "for i in range(15):\n",
        "  k = kmeans(i+1,d2)\n",
        "  k.fit(d2)\n",
        "  k.error_c(d2)\n",
        "  err[i]=k.error_cal(d2)\n",
        "plt.plot(num,err,'r--x')"
      ],
      "execution_count": null,
      "outputs": [
        {
          "output_type": "stream",
          "text": [
            "error for cluster 0 : 8.658345154205232\n",
            "error for cluster 0 : 7.312022040242697\n",
            "error for cluster 1 : 6.893240225322228\n",
            "error for cluster 0 : 5.371828348669904\n",
            "error for cluster 1 : 5.379865549578609\n",
            "error for cluster 2 : 5.37849776290551\n",
            "error for cluster 0 : 4.9734666074389295\n",
            "error for cluster 1 : 4.66208549938612\n",
            "error for cluster 2 : 4.642190779813346\n",
            "error for cluster 3 : 4.564629078439291\n",
            "error for cluster 0 : 4.916761283884785\n",
            "error for cluster 1 : 4.468795766125203\n",
            "error for cluster 2 : 4.219302728244404\n",
            "error for cluster 3 : 4.078337599679003\n",
            "error for cluster 4 : 4.07339442593341\n",
            "error for cluster 0 : 3.2469456768194473\n",
            "error for cluster 1 : 4.21334306809381\n",
            "error for cluster 2 : 4.041499959207122\n",
            "error for cluster 3 : 3.8882867401058205\n",
            "error for cluster 4 : 3.81420385301468\n",
            "error for cluster 5 : 3.711957590695315\n",
            "error for cluster 0 : 4.502111023575558\n",
            "error for cluster 1 : 4.165545448802168\n",
            "error for cluster 2 : 3.8375360242341627\n",
            "error for cluster 3 : 3.7045727198524867\n",
            "error for cluster 4 : 3.6631309604710416\n",
            "error for cluster 5 : 3.507979877123262\n",
            "error for cluster 6 : 3.4446596929441355\n",
            "error for cluster 0 : 3.291785268194023\n",
            "error for cluster 1 : 3.109548351003114\n",
            "error for cluster 2 : 3.153029048022\n",
            "error for cluster 3 : 3.18487996039707\n",
            "error for cluster 4 : 3.1508503323021104\n",
            "error for cluster 5 : 3.0543744150694914\n",
            "error for cluster 6 : 2.9669482933378117\n",
            "error for cluster 7 : 2.9021880051216358\n",
            "error for cluster 0 : 3.1028935314026893\n",
            "error for cluster 1 : 3.156293738366101\n",
            "error for cluster 2 : 2.899372009912559\n",
            "error for cluster 3 : 2.9350708114528596\n",
            "error for cluster 4 : 2.974397108037652\n",
            "error for cluster 5 : 2.895462708077085\n",
            "error for cluster 6 : 2.824291854646227\n",
            "error for cluster 7 : 2.7555942643229057\n",
            "error for cluster 8 : 2.704169445687462\n",
            "error for cluster 0 : 2.3352612583080394\n",
            "error for cluster 1 : 2.5713176659533605\n",
            "error for cluster 2 : 2.7544814167942273\n",
            "error for cluster 3 : 2.878598341252777\n",
            "error for cluster 4 : 2.5794039085686573\n",
            "error for cluster 5 : 2.527912250777082\n",
            "error for cluster 6 : 2.5005399453104067\n",
            "error for cluster 7 : 2.492654399421399\n",
            "error for cluster 8 : 2.459720066064181\n",
            "error for cluster 9 : 2.430799576251681\n",
            "error for cluster 0 : 2.323897095031456\n",
            "error for cluster 1 : 2.82893266477433\n",
            "error for cluster 2 : 2.926782380705937\n",
            "error for cluster 3 : 2.761051691493615\n",
            "error for cluster 4 : 2.6384241309770937\n",
            "error for cluster 5 : 2.5728507131932363\n",
            "error for cluster 6 : 2.5264574978143925\n",
            "error for cluster 7 : 2.4705656625888675\n",
            "error for cluster 8 : 2.4104258006384542\n",
            "error for cluster 9 : 2.3761907709045524\n",
            "error for cluster 10 : 2.3559723002126103\n",
            "error for cluster 0 : 2.4289927431137643\n",
            "error for cluster 1 : 2.3200503720008934\n",
            "error for cluster 2 : 2.4551068397169415\n",
            "error for cluster 3 : 2.412791739924588\n",
            "error for cluster 4 : 2.466780119791617\n",
            "error for cluster 5 : 2.551151036212417\n",
            "error for cluster 6 : 2.4955471057643415\n",
            "error for cluster 7 : 2.4528130265595576\n",
            "error for cluster 8 : 2.4948972832625205\n",
            "error for cluster 9 : 2.461709940393004\n",
            "error for cluster 10 : 2.390577945737966\n",
            "error for cluster 11 : 2.337880254889286\n",
            "error for cluster 0 : 2.257672474543322\n",
            "error for cluster 1 : 2.291222237418466\n",
            "error for cluster 2 : 2.300886631923717\n",
            "error for cluster 3 : 2.2242017837283354\n",
            "error for cluster 4 : 2.39926984739053\n",
            "error for cluster 5 : 2.2981611355731455\n",
            "error for cluster 6 : 2.443813126234634\n",
            "error for cluster 7 : 2.389204387345166\n",
            "error for cluster 8 : 2.3204292973154\n",
            "error for cluster 9 : 2.2561514729042025\n",
            "error for cluster 10 : 2.2406053408669964\n",
            "error for cluster 11 : 2.228517922555835\n",
            "error for cluster 12 : 2.1951348686384735\n",
            "error for cluster 0 : 2.3189471866754525\n",
            "error for cluster 1 : 1.7726724044576565\n",
            "error for cluster 2 : 1.7846670479664593\n",
            "error for cluster 3 : 2.087382994674082\n",
            "error for cluster 4 : 2.0036881362649495\n",
            "error for cluster 5 : 2.2023861418686237\n",
            "error for cluster 6 : 2.4039588590183505\n",
            "error for cluster 7 : 2.3562614030979843\n",
            "error for cluster 8 : 2.3255319231991725\n",
            "error for cluster 9 : 2.306982201787945\n",
            "error for cluster 10 : 2.301587831770555\n",
            "error for cluster 11 : 2.2486363572296875\n",
            "error for cluster 12 : 2.2590437248733113\n",
            "error for cluster 13 : 2.216850234123508\n",
            "error for cluster 0 : 2.3189471866754525\n",
            "error for cluster 1 : 1.7726724044576565\n",
            "error for cluster 2 : 1.7846670479664593\n",
            "error for cluster 3 : 2.087382994674082\n",
            "error for cluster 4 : 2.0036881362649495\n",
            "error for cluster 5 : 1.9755019679907655\n",
            "error for cluster 6 : 2.160035224307532\n",
            "error for cluster 7 : 2.1546774267573525\n",
            "error for cluster 8 : 2.3501550135721407\n",
            "error for cluster 9 : 2.2873062052661814\n",
            "error for cluster 10 : 2.297954939289365\n",
            "error for cluster 11 : 2.263703382822808\n",
            "error for cluster 12 : 2.24591011128579\n",
            "error for cluster 13 : 2.2014756132086863\n",
            "error for cluster 14 : 2.19714983319195\n"
          ],
          "name": "stdout"
        },
        {
          "output_type": "execute_result",
          "data": {
            "text/plain": [
              "[<matplotlib.lines.Line2D at 0x7fc2d5989160>]"
            ]
          },
          "metadata": {
            "tags": []
          },
          "execution_count": 260
        },
        {
          "output_type": "display_data",
          "data": {
            "image/png": "[encoded data removed]",
            "text/plain": [
              "<Figure size 432x288 with 1 Axes>"
            ]
          },
          "metadata": {
            "tags": [],
            "needs_background": "light"
          }
        }
      ]
    }
  ]
}
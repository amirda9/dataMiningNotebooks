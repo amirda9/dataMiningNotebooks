{
  "nbformat": 4,
  "nbformat_minor": 0,
  "metadata": {
    "colab": {
      "name": "NN_Exercise2.ipynb",
      "provenance": [],
      "collapsed_sections": [],
      "authorship_tag": "ABX9TyPwzFWV7iekL3hyhxGrNIz9",
      "include_colab_link": true
    },
    "kernelspec": {
      "name": "python3",
      "display_name": "Python 3"
    },
    "language_info": {
      "name": "python"
    }
  },
  "cells": [
    {
      "cell_type": "markdown",
      "metadata": {
        "id": "view-in-github",
        "colab_type": "text"
      },
      "source": [
        "<a href=\"https://colab.research.google.com/github/amirda9/dataMiningNotebooks/blob/master/NN_Exercise2.ipynb\" target=\"_parent\"><img src=\"https://colab.research.google.com/assets/colab-badge.svg\" alt=\"Open In Colab\"/></a>"
      ]
    },
    {
      "cell_type": "code",
      "metadata": {
        "id": "zeFr-wSyp6UO"
      },
      "source": [
        "import numpy as np\n",
        "from sklearn import datasets\n",
        "import matplotlib.pyplot as plt\n",
        "\n",
        "class slp(object):\n",
        "\n",
        "    def __init__(self, input, output, learning_rate,ep=0.15):\n",
        "        self.input = input\n",
        "        self.learning_rate = learning_rate\n",
        "        self.weights=np.ones(x.shape[1])\n",
        "        self.weights=self.weights*learning_rate\n",
        "        self.epochs = 5000\n",
        "        self.output = output \n",
        "        self.epsilon = ep\n",
        "        # if ~exist('param3','var')\n",
        "        #   self.epsilon = ep;\n",
        "        # end\n",
        "        \n",
        "    def sigmoid(self,z):\n",
        "      return 1/(1+np.exp(-z))\n",
        "    \n",
        "    def hardlimit(self,z):\n",
        "      if z > 0.5 :\n",
        "        a = 1\n",
        "      else:\n",
        "        a=0\n",
        "      return a\n",
        "\n",
        "    def train(self):\n",
        "      iteration=0\n",
        "      for _ in range(self.epochs):\n",
        "        # print(self.weights())\n",
        "        if(self.findwrongs() != 0):\n",
        "          iteration = iteration +1\n",
        "          # print(self.weights())\n",
        "          for i in range(self.input.shape[0]):\n",
        "            e = self.output[i] - self.eval(self.input[i])\n",
        "            if(e > self.epsilon):\n",
        "                self.weights = self.weights + (self.learning_rate *(e * self.input[i]))\n",
        "            else: \n",
        "                pass\n",
        "\n",
        "        # print(self.findwrongs())\n",
        "        # else:\n",
        "        #   break\n",
        "            # self.bias = self.bias + (self.learning_rate*(e*self)\n",
        "            \n",
        "            # else:\n",
        "            #   pass\n",
        "      print(\"number of iterations :\" + str(iteration))\n",
        "    \n",
        "    def findwrongs(self):\n",
        "      wrongs=0\n",
        "      for i in range(self.input.shape[0]):\n",
        "        z = self.weights.T.dot(x[i])\n",
        "        a = self.hardlimit(z)\n",
        "        if(a!=self.output[i]):\n",
        "          wrongs=wrongs+1\n",
        "      else:\n",
        "          pass\n",
        "      # print (\"there are \"+ wrongs +\"wrong prediction !\")\n",
        "      return wrongs\n",
        "    def eval(self,x):\n",
        "      z=self.weights.T.dot(x)\n",
        "      # print(x)\n",
        "      return z\n",
        "\n",
        "    \n",
        "\n",
        "    def predict(self, x):\n",
        "      res=[]\n",
        "      for i in range(x.shape[0]):\n",
        "        z = self.weights.T.dot(x[i])\n",
        "        a = self.hardlimit(z)\n",
        "        res.append(a)\n",
        "        # print(\"prediction for \"+ str(x[i]) +\" is :\" + str(a))\n",
        "      res = np.asarray(res)\n",
        "      return res       "
      ],
      "execution_count": null,
      "outputs": []
    },
    {
      "cell_type": "code",
      "metadata": {
        "id": "qHzdD-AIqkYW"
      },
      "source": [
        "iris= datasets.load_iris()"
      ],
      "execution_count": null,
      "outputs": []
    },
    {
      "cell_type": "code",
      "metadata": {
        "colab": {
          "base_uri": "https://localhost:8080/"
        },
        "id": "9PtfFflDrymd",
        "outputId": "22ed896a-95bc-4da6-90b8-28a03c357de0"
      },
      "source": [
        "iris.data.shape"
      ],
      "execution_count": null,
      "outputs": [
        {
          "output_type": "execute_result",
          "data": {
            "text/plain": [
              "(150, 4)"
            ]
          },
          "metadata": {},
          "execution_count": 244
        }
      ]
    },
    {
      "cell_type": "code",
      "metadata": {
        "id": "61fe-SVeqrRi"
      },
      "source": [
        "y = np.asarray([0 if x==0 else 1 for x in iris.target])\n",
        "x = np.asarray([[x[2],x[3]] for x in iris.data])"
      ],
      "execution_count": null,
      "outputs": []
    },
    {
      "cell_type": "code",
      "metadata": {
        "colab": {
          "base_uri": "https://localhost:8080/"
        },
        "id": "QuW8kWWesyga",
        "outputId": "1d113073-429f-410b-84f7-b43a6a876ca0"
      },
      "source": [
        "x.shape"
      ],
      "execution_count": null,
      "outputs": [
        {
          "output_type": "execute_result",
          "data": {
            "text/plain": [
              "(150, 2)"
            ]
          },
          "metadata": {},
          "execution_count": 246
        }
      ]
    },
    {
      "cell_type": "code",
      "metadata": {
        "colab": {
          "base_uri": "https://localhost:8080/"
        },
        "id": "ck2lNu8erz-2",
        "outputId": "cf8bd7df-4542-43e5-efb6-25aa940e5161"
      },
      "source": [
        "Model = slp(x,y,0.05)\n",
        "Model.train()"
      ],
      "execution_count": null,
      "outputs": [
        {
          "output_type": "stream",
          "name": "stdout",
          "text": [
            "number of iterations :5000\n"
          ]
        }
      ]
    },
    {
      "cell_type": "code",
      "metadata": {
        "colab": {
          "base_uri": "https://localhost:8080/"
        },
        "id": "Zdy5LeCju9SV",
        "outputId": "eff9b15a-4d6d-448e-a957-339a96197c07"
      },
      "source": [
        "Model.weights"
      ],
      "execution_count": null,
      "outputs": [
        {
          "output_type": "execute_result",
          "data": {
            "text/plain": [
              "array([0.24589229, 0.10851888])"
            ]
          },
          "metadata": {},
          "execution_count": 248
        }
      ]
    },
    {
      "cell_type": "code",
      "metadata": {
        "colab": {
          "base_uri": "https://localhost:8080/",
          "height": 282
        },
        "id": "bKdxC3U1rz8H",
        "outputId": "2b1d0b22-6275-43e0-a1c0-4ae4a38d7cf3"
      },
      "source": [
        "for i in range(x.shape[0]):\n",
        "  plt.scatter(x[i,0],x[i,1],c='r' if Model.predict(x[i].reshape(-1,2))==1 else 'b')\n",
        "t1 = 0\n",
        "t2 = 0\n",
        "myline = []\n",
        "for i in np.arange(0, 7, 0.02):\n",
        "  for j in np.arange(0, 2.5, 0.02):\n",
        "    X = np.asarray([i,j]).reshape(-1,2)\n",
        "    c = Model.predict(X)\n",
        "    # print(c,t1)\n",
        "    if c != t1:\n",
        "      myline.append(X)\n",
        "    t1=c\n",
        "myline= np.asarray(myline).reshape(-1,2)\n",
        "myline.shape\n",
        "plt.scatter(myline[:,0],myline[:,1],c='y')\n",
        "# plt.plot(Model.weights)"
      ],
      "execution_count": null,
      "outputs": [
        {
          "output_type": "execute_result",
          "data": {
            "text/plain": [
              "<matplotlib.collections.PathCollection at 0x7f20be4f6f50>"
            ]
          },
          "metadata": {},
          "execution_count": 249
        },
        {
          "output_type": "display_data",
          "data": {
            "image/png": "[encoded data removed]",
            "text/plain": [
              "<Figure size 432x288 with 1 Axes>"
            ]
          },
          "metadata": {
            "needs_background": "light"
          }
        }
      ]
    },
    {
      "cell_type": "code",
      "metadata": {
        "colab": {
          "base_uri": "https://localhost:8080/",
          "height": 282
        },
        "id": "TMZ7JZ9L26i1",
        "outputId": "b655ad6a-15df-4224-a424-5f6d30beaf21"
      },
      "source": [
        "plt.plot(Model.weights)"
      ],
      "execution_count": null,
      "outputs": [
        {
          "output_type": "execute_result",
          "data": {
            "text/plain": [
              "[<matplotlib.lines.Line2D at 0x7f20be9bdb10>]"
            ]
          },
          "metadata": {},
          "execution_count": 250
        },
        {
          "output_type": "display_data",
          "data": {
            "image/png": "[encoded data removed]",
            "text/plain": [
              "<Figure size 432x288 with 1 Axes>"
            ]
          },
          "metadata": {
            "needs_background": "light"
          }
        }
      ]
    },
    {
      "cell_type": "code",
      "metadata": {
        "colab": {
          "base_uri": "https://localhost:8080/"
        },
        "id": "n869lqvCx7Gx",
        "outputId": "587c4c88-3c9e-4f28-fc25-4f59d11882c9"
      },
      "source": [
        "from sklearn.neural_network import MLPClassifier\n",
        "clf = MLPClassifier(hidden_layer_sizes=[1], activation='logistic')\n",
        "clf.fit(x,y)\n",
        "print(clf.get_params)"
      ],
      "execution_count": null,
      "outputs": [
        {
          "output_type": "stream",
          "name": "stdout",
          "text": [
            "<bound method BaseEstimator.get_params of MLPClassifier(activation='logistic', alpha=0.0001, batch_size='auto',\n",
            "              beta_1=0.9, beta_2=0.999, early_stopping=False, epsilon=1e-08,\n",
            "              hidden_layer_sizes=[1], learning_rate='constant',\n",
            "              learning_rate_init=0.001, max_fun=15000, max_iter=200,\n",
            "              momentum=0.9, n_iter_no_change=10, nesterovs_momentum=True,\n",
            "              power_t=0.5, random_state=None, shuffle=True, solver='adam',\n",
            "              tol=0.0001, validation_fraction=0.1, verbose=False,\n",
            "              warm_start=False)>\n"
          ]
        },
        {
          "output_type": "stream",
          "name": "stderr",
          "text": [
            "/usr/local/lib/python3.7/dist-packages/sklearn/neural_network/_multilayer_perceptron.py:571: ConvergenceWarning: Stochastic Optimizer: Maximum iterations (200) reached and the optimization hasn't converged yet.\n",
            "  % self.max_iter, ConvergenceWarning)\n"
          ]
        }
      ]
    }
  ]
}
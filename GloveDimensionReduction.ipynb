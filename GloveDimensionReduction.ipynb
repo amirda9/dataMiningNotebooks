{
  "nbformat": 4,
  "nbformat_minor": 0,
  "metadata": {
    "colab": {
      "name": "Q4.ipynb",
      "provenance": [],
      "collapsed_sections": [],
      "mount_file_id": "11otwt_rsbajN4n_Kf_tRwJb08wBVzk-1",
      "authorship_tag": "ABX9TyOT+YqfPhDcg1OI14ZgqIAy",
      "include_colab_link": true
    },
    "kernelspec": {
      "name": "python3",
      "display_name": "Python 3"
    }
  },
  "cells": [
    {
      "cell_type": "markdown",
      "metadata": {
        "id": "view-in-github",
        "colab_type": "text"
      },
      "source": [
        "<a href=\"https://colab.research.google.com/github/amirda9/dataMiningNotebooks/blob/master/GloveDimensionReduction.ipynb\" target=\"_parent\"><img src=\"https://colab.research.google.com/assets/colab-badge.svg\" alt=\"Open In Colab\"/></a>"
      ]
    },
    {
      "cell_type": "code",
      "metadata": {
        "id": "EaAdZtJZXV8V"
      },
      "source": [
        "# !wget http://nlp.stanford.edu/data/glove.6B.zip"
      ],
      "execution_count": null,
      "outputs": []
    },
    {
      "cell_type": "code",
      "metadata": {
        "id": "PvzdLfTnagR4"
      },
      "source": [
        "# from google.colab import drive\n",
        "# drive.mount('/content/drive')"
      ],
      "execution_count": null,
      "outputs": []
    },
    {
      "cell_type": "code",
      "metadata": {
        "id": "3kobB0RRYJ1v"
      },
      "source": [
        "# !cp \"glove.6B.zip\" \"/content/drive.zip\""
      ],
      "execution_count": null,
      "outputs": []
    },
    {
      "cell_type": "code",
      "metadata": {
        "id": "PdT-_4QsbIJu"
      },
      "source": [
        "# import zipfile\n",
        "# zip_ref = zipfile.ZipFile(\"/content/drive/MyDrive/glove.zip\", 'r')\n",
        "# zip_ref.extractall(\"/content/folder\")\n",
        "# zip_ref.close()"
      ],
      "execution_count": null,
      "outputs": []
    },
    {
      "cell_type": "code",
      "metadata": {
        "colab": {
          "base_uri": "https://localhost:8080/"
        },
        "id": "MtuPU93Oc21C",
        "outputId": "4c81b287-d54c-4a85-bcee-49967ee6d88c"
      },
      "source": [
        "import numpy as np\n",
        "import sys\n",
        "from sklearn.decomposition import PCA\n",
        "import subprocess\n",
        "\n",
        "Glove = []\n",
        "f = open('/content/folder/glove.6B.50d.txt')\n",
        "dims = 50\n",
        "red_dims = 2\n",
        "file_text = \"glove.6b.50d\"\n",
        "\n",
        "X_train_names = []\n",
        "print(\"Loading Word vectors.\")\n",
        "for line in f:\n",
        "    values = line.split()\n",
        "    word = values[0]\n",
        "    coefs = np.asarray(values[1:], dtype='float32')\n",
        "    Glove.append(coefs)\n",
        "    X_train_names.append(word)\n",
        "f.close()\n",
        "\n",
        "print(\"Done.\")\n",
        "X_train = []\n",
        "\n",
        "for x in Glove:\n",
        "        X_train.append(x)\n",
        "\n",
        "X_train = np.asarray(X_train)\n",
        "# pca_embeddings = {}\n",
        "\n",
        "# # PCA to get Top Components\n",
        "# pca =  PCA(n_components = dims)\n",
        "# print(X_train.shape)\n",
        "# print(np.mean(X_train))\n",
        "# X_train = X_train - np.mean(X_train)\n",
        "# X_fit = pca.fit_transform(X_train)\n",
        "# U1 = pca.components_\n",
        "\n",
        "# z = []\n",
        "\n",
        "\n",
        "\n",
        "# PCA Dim Reduction\n",
        "pca =  PCA(n_components = red_dims)\n",
        "# X_train = z - np.mean(z)\n",
        "X_new_final = pca.fit_transform(X_train)\n",
        "\n",
        "# PCA to do Post-Processing Again\n",
        "# pca =  PCA(n_components = red_dims)\n",
        "# X_new = X_new_final - np.mean(X_new_final)\n",
        "# X_new = pca.fit_transform(X_new)\n",
        "# Ufit = pca.components_\n",
        "\n",
        "X_new_final = X_new_final - np.mean(X_new_final)\n"
      ],
      "execution_count": null,
      "outputs": [
        {
          "output_type": "stream",
          "text": [
            "Loading Word vectors.\n",
            "Done.\n"
          ],
          "name": "stdout"
        }
      ]
    },
    {
      "cell_type": "code",
      "metadata": {
        "colab": {
          "base_uri": "https://localhost:8080/",
          "height": 268
        },
        "id": "hkwfHTSiD4HB",
        "outputId": "50f88343-ae2a-4997-b515-09bdcdc5e9fd"
      },
      "source": [
        "import random\n",
        "import matplotlib.pyplot as plt\n",
        "for i in range(20):\n",
        "  rand=random.randint(0,1000)\n",
        "  plt.scatter(X_new_final[rand,0],X_new_final[rand,1])\n",
        "  plt.annotate(X_train_names[rand],[X_new_final[rand,0],X_new_final[rand,1]])"
      ],
      "execution_count": null,
      "outputs": [
        {
          "output_type": "display_data",
          "data": {
            "image/png": "[encoded data removed]",
            "text/plain": [
              "<Figure size 432x288 with 1 Axes>"
            ]
          },
          "metadata": {
            "tags": [],
            "needs_background": "light"
          }
        }
      ]
    }
  ]
}
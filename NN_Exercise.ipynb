{
  "nbformat": 4,
  "nbformat_minor": 0,
  "metadata": {
    "colab": {
      "name": "NN_Exercise.ipynb",
      "provenance": [],
      "collapsed_sections": [],
      "authorship_tag": "ABX9TyPy4pPcHqC0cq+fbYH/VaU1",
      "include_colab_link": true
    },
    "kernelspec": {
      "name": "python3",
      "display_name": "Python 3"
    },
    "language_info": {
      "name": "python"
    }
  },
  "cells": [
    {
      "cell_type": "markdown",
      "metadata": {
        "id": "view-in-github",
        "colab_type": "text"
      },
      "source": [
        "<a href=\"https://colab.research.google.com/github/amirda9/dataMiningNotebooks/blob/master/NN_Exercise.ipynb\" target=\"_parent\"><img src=\"https://colab.research.google.com/assets/colab-badge.svg\" alt=\"Open In Colab\"/></a>"
      ]
    },
    {
      "cell_type": "code",
      "metadata": {
        "id": "vHBT3UUXbM2w"
      },
      "source": [
        "import numpy as np\n",
        "import math\n",
        "import matplotlib.pyplot as plt\n",
        "from sklearn import linear_model"
      ],
      "execution_count": 104,
      "outputs": []
    },
    {
      "cell_type": "code",
      "metadata": {
        "id": "CtWpj5xNbuVV"
      },
      "source": [
        "X = np.array([[0.5197,0],\n",
        "[0.4404, 5],\n",
        "[0.4850 ,10],\n",
        "[0.4222, 15],\n",
        "[0.4132 ,20],\n",
        "[0.4371, 25],\n",
        "[0.3912 ,30],\n",
        "[0.3949, 35],\n",
        "[1.3910, 40],\n",
        "[0.4276, 45],\n",
        "[0.4075, 50],\n",
        "[0.3956 ,55],\n",
        "[2.4053, 60],\n",
        "[0.4752 ,65],\n",
        "[0.5032 ,70],\n",
        "[0.5273 ,75],\n",
        "[0.4879 ,80]])"
      ],
      "execution_count": 105,
      "outputs": []
    },
    {
      "cell_type": "code",
      "metadata": {
        "colab": {
          "base_uri": "https://localhost:8080/"
        },
        "id": "p1qqn12EcuMc",
        "outputId": "89121b90-fd4d-43df-f944-f1e9f1569705"
      },
      "source": [
        "Cartesian = [[x[0]*math.cos(x[1]*2*np.pi/360),x[0]*math.sin(x[1]*2*np.pi/360)] for x in X]\n",
        "Cartesian"
      ],
      "execution_count": 106,
      "outputs": [
        {
          "output_type": "execute_result",
          "data": {
            "text/plain": [
              "[[0.5197, 0.0],\n",
              " [0.4387241450396048, 0.03838338910606866],\n",
              " [0.47763176021092085, 0.08421936616846121],\n",
              " [0.40781388385924466, 0.10927340084228426],\n",
              " [0.38828099090873736, 0.14132272322216632],\n",
              " [0.3961471337137197, 0.18472644220685971],\n",
              " [0.33878913796047244, 0.19559999999999997],\n",
              " [0.32348314228972286, 0.22650533471502807],\n",
              " [1.0655678203784984, 0.8941175650739761],\n",
              " [0.30235885963536774, 0.3023588596353677],\n",
              " [0.2619359509472648, 0.3121631105709835],\n",
              " [0.22690683822047386, 0.32405654872072515],\n",
              " [1.2026500000000002, 2.08305090372271],\n",
              " [0.2008281979791804, 0.4306774603998161],\n",
              " [0.17210453612147655, 0.47285332677946906],\n",
              " [0.1364752824825592, 0.5093326882022257],\n",
              " [0.08472294588369535, 0.4804877026946563]]"
            ]
          },
          "metadata": {},
          "execution_count": 106
        }
      ]
    },
    {
      "cell_type": "code",
      "metadata": {
        "colab": {
          "base_uri": "https://localhost:8080/"
        },
        "id": "kgz0xkCWem0s",
        "outputId": "caac4abc-6640-4e10-b5e4-07a3f6b9a42b"
      },
      "source": [
        "np.array(Cartesian)[:,0].shape"
      ],
      "execution_count": 107,
      "outputs": [
        {
          "output_type": "execute_result",
          "data": {
            "text/plain": [
              "(17,)"
            ]
          },
          "metadata": {},
          "execution_count": 107
        }
      ]
    },
    {
      "cell_type": "code",
      "metadata": {
        "colab": {
          "base_uri": "https://localhost:8080/",
          "height": 282
        },
        "id": "rX-s-YMydTAr",
        "outputId": "99d493e9-2c52-4da3-9243-9544c6bec965"
      },
      "source": [
        "plt.scatter(np.array(Cartesian)[:,0],np.array(Cartesian)[:,1])"
      ],
      "execution_count": 108,
      "outputs": [
        {
          "output_type": "execute_result",
          "data": {
            "text/plain": [
              "<matplotlib.collections.PathCollection at 0x7f634b04f5d0>"
            ]
          },
          "metadata": {},
          "execution_count": 108
        },
        {
          "output_type": "display_data",
          "data": {
            "image/png": "[encoded data removed]",
            "text/plain": [
              "<Figure size 432x288 with 1 Axes>"
            ]
          },
          "metadata": {
            "needs_background": "light"
          }
        }
      ]
    },
    {
      "cell_type": "code",
      "metadata": {
        "id": "54ejN9UefOPb"
      },
      "source": [
        "w = 1/2*(np.array(Cartesian)[:,1].reshape(17,1) * np.linalg.pinv(np.array(Cartesian)[:,0].reshape(17,1)))"
      ],
      "execution_count": 109,
      "outputs": []
    },
    {
      "cell_type": "code",
      "metadata": {
        "colab": {
          "base_uri": "https://localhost:8080/"
        },
        "id": "jVxOdgQsh37U",
        "outputId": "e8b19eda-625e-428b-b718-03c4db0d0869"
      },
      "source": [
        "w.shape"
      ],
      "execution_count": 110,
      "outputs": [
        {
          "output_type": "execute_result",
          "data": {
            "text/plain": [
              "(17, 17)"
            ]
          },
          "metadata": {},
          "execution_count": 110
        }
      ]
    },
    {
      "cell_type": "code",
      "metadata": {
        "id": "iza7gYmght2M"
      },
      "source": [
        "Ypred = w * np.array(Cartesian)[:,0].reshape(17,1)"
      ],
      "execution_count": 111,
      "outputs": []
    },
    {
      "cell_type": "code",
      "metadata": {
        "id": "KQQuaOwJi_jd"
      },
      "source": [
        "Ypred = np.matmul(w,np.array(Cartesian)[:,0].reshape(17,1))"
      ],
      "execution_count": 112,
      "outputs": []
    },
    {
      "cell_type": "code",
      "metadata": {
        "colab": {
          "base_uri": "https://localhost:8080/"
        },
        "id": "KDkz9x2jiQEb",
        "outputId": "2a95949c-80de-4b4b-dbc1-8d624779db58"
      },
      "source": [
        "Ypred.shape"
      ],
      "execution_count": 113,
      "outputs": [
        {
          "output_type": "execute_result",
          "data": {
            "text/plain": [
              "(17, 1)"
            ]
          },
          "metadata": {},
          "execution_count": 113
        }
      ]
    },
    {
      "cell_type": "code",
      "metadata": {
        "colab": {
          "base_uri": "https://localhost:8080/",
          "height": 282
        },
        "id": "c68EfdgXiGvI",
        "outputId": "4ca7c3ad-b6e2-43c5-a6bf-d0fedea24345"
      },
      "source": [
        "plt.scatter(np.array(Cartesian)[:,0],np.array(Cartesian)[:,1] )\n",
        "plt.scatter(np.array(Cartesian)[:,0],Ypred )"
      ],
      "execution_count": 114,
      "outputs": [
        {
          "output_type": "execute_result",
          "data": {
            "text/plain": [
              "<matplotlib.collections.PathCollection at 0x7f634afc4610>"
            ]
          },
          "metadata": {},
          "execution_count": 114
        },
        {
          "output_type": "display_data",
          "data": {
            "image/png": "[encoded data removed]",
            "text/plain": [
              "<Figure size 432x288 with 1 Axes>"
            ]
          },
          "metadata": {
            "needs_background": "light"
          }
        }
      ]
    },
    {
      "cell_type": "code",
      "metadata": {
        "id": "-0p0y7lqkFAE"
      },
      "source": [
        "MSE=0\n",
        "for i in range(np.array(Cartesian).shape[0]):\n",
        "  MSE+=((np.array(Cartesian)[i,1]-Ypred[i])**2)"
      ],
      "execution_count": 115,
      "outputs": []
    },
    {
      "cell_type": "code",
      "metadata": {
        "colab": {
          "base_uri": "https://localhost:8080/"
        },
        "id": "68VvKgxBksGn",
        "outputId": "17f0141e-06cb-4a47-ed19-5e9ae3081448"
      },
      "source": [
        "MSE"
      ],
      "execution_count": 116,
      "outputs": [
        {
          "output_type": "execute_result",
          "data": {
            "text/plain": [
              "array([1.62398876])"
            ]
          },
          "metadata": {},
          "execution_count": 116
        }
      ]
    },
    {
      "cell_type": "code",
      "metadata": {
        "id": "D_gHMrlRl8qd"
      },
      "source": [
        "ransac = linear_model.RANSACRegressor()\n",
        "ransac.fit(np.array(Cartesian)[:,0].reshape(17,1), np.array(Cartesian)[:,1].reshape(17,1))\n",
        "Yransac = ransac.predict(np.array(Cartesian)[:,0].reshape(17,1))"
      ],
      "execution_count": 120,
      "outputs": []
    },
    {
      "cell_type": "code",
      "metadata": {
        "colab": {
          "base_uri": "https://localhost:8080/",
          "height": 282
        },
        "id": "yYpu0LYgmeCf",
        "outputId": "3d27b4c9-ce80-4cf9-c86b-6090fc417e71"
      },
      "source": [
        "plt.scatter(np.array(Cartesian)[:,0],np.array(Cartesian)[:,1] )\n",
        "plt.scatter(np.array(Cartesian)[:,0],Yransac )"
      ],
      "execution_count": 121,
      "outputs": [
        {
          "output_type": "execute_result",
          "data": {
            "text/plain": [
              "<matplotlib.collections.PathCollection at 0x7f634aece750>"
            ]
          },
          "metadata": {},
          "execution_count": 121
        },
        {
          "output_type": "display_data",
          "data": {
            "image/png": "[encoded data removed]",
            "text/plain": [
              "<Figure size 432x288 with 1 Axes>"
            ]
          },
          "metadata": {
            "needs_background": "light"
          }
        }
      ]
    },
    {
      "cell_type": "code",
      "metadata": {
        "id": "NFcNQUCxm2re"
      },
      "source": [
        "MSE_RANSAC=0\n",
        "for i in range(np.array(Cartesian).shape[0]):\n",
        "  MSE_RANSAC+=((np.array(Cartesian)[i,1]-Yransac[i])**2)"
      ],
      "execution_count": 122,
      "outputs": []
    },
    {
      "cell_type": "code",
      "metadata": {
        "colab": {
          "base_uri": "https://localhost:8080/"
        },
        "id": "neAULgFPm_I7",
        "outputId": "23072ee4-f4d4-4a88-a55b-373a75328d12"
      },
      "source": [
        "MSE_RANSAC"
      ],
      "execution_count": 123,
      "outputs": [
        {
          "output_type": "execute_result",
          "data": {
            "text/plain": [
              "array([11.246659])"
            ]
          },
          "metadata": {},
          "execution_count": 123
        }
      ]
    }
  ]
}